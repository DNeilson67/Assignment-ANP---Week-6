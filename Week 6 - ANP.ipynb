{
 "cells": [
  {
   "cell_type": "code",
   "execution_count": 13,
   "metadata": {},
   "outputs": [
    {
     "name": "stdout",
     "output_type": "stream",
     "text": [
      "{'gold': 550, 'pouch': ['flint', 'twine', 'gemstone'], 'backpack': ['bedroll', 'bread loaf', 'xylophone'], 'pocket': ('seashell', 'strange berry', 'lint')}\n"
     ]
    }
   ],
   "source": [
    "inventory = { \n",
    "    'gold' : 500, \n",
    "    'pouch' : ['flint', 'twine', 'gemstone'], \n",
    "    'backpack' : ['xylophone','dagger', 'bedroll','bread loaf'] \n",
    "}\n",
    "\n",
    "inventory['pocket'] = 'seashell', 'strange berry', 'lint'\n",
    "inventory['backpack'].sort() \n",
    "inventory['backpack'].remove('dagger')\n",
    "inventory['gold'] += 50\n",
    "\n",
    "print(inventory)"
   ]
  },
  {
   "cell_type": "code",
   "execution_count": 23,
   "metadata": {},
   "outputs": [
    {
     "name": "stdout",
     "output_type": "stream",
     "text": [
      "banana\n",
      "price: 4\n",
      "stock: 32\n",
      "apple\n",
      "price: 2\n",
      "stock: 64\n",
      "orange\n",
      "price: 1.5\n",
      "stock: 16\n",
      "pear\n",
      "price: 3\n",
      "stock: 128\n",
      "664.0\n"
     ]
    }
   ],
   "source": [
    "prices = {\"banana\": 4, \"apple\": 2, \"orange\": 1.5, \"pear\": 3 }\n",
    "stocks = {\"banana\": 32, \"apple\": 64, \"orange\": 16, \"pear\": 128 }\n",
    "\n",
    "for i in prices:\n",
    "    print(i)\n",
    "    print(\"price:\",prices[i])\n",
    "    print(\"stock:\",stocks[i])\n",
    "\n",
    "total = 0\n",
    "\n",
    "for i in prices:\n",
    "    total += prices[i]*stocks[i]\n",
    "\n",
    "print(total)\n"
   ]
  },
  {
   "cell_type": "code",
   "execution_count": 26,
   "metadata": {},
   "outputs": [
    {
     "name": "stdout",
     "output_type": "stream",
     "text": [
      "3\n"
     ]
    }
   ],
   "source": [
    "items = {\"apple\",\"pear\"}\n",
    "\n",
    "stock = { \"banana\": 6, \"apple\": 0, \"orange\": 32, \"pear\": 15 } \n",
    "prices = { \"banana\": 4, \"apple\": 2, \"orange\": 1.5, \"pear\": 3 }\n",
    "\n",
    "def compute_bill(food):\n",
    "    total = 0\n",
    "    for i in food:\n",
    "        if stock[i] > 0:\n",
    "            stock[i] -= 1\n",
    "            total += prices[i]\n",
    "    return total\n",
    "\n",
    "print(compute_bill(items))"
   ]
  },
  {
   "cell_type": "code",
   "execution_count": 51,
   "metadata": {},
   "outputs": [
    {
     "name": "stdout",
     "output_type": "stream",
     "text": [
      "Eren\n",
      "[90.0, 97.0, 75.0, 92.0]\n",
      "[88.0, 40.0, 94.0]\n",
      "[75.0, 90.0]\n",
      "Mikasa\n",
      "[100.0, 92.0, 98.0, 100.0]\n",
      "[82.0, 83.0, 91.0]\n",
      "[89.0, 97.0]\n",
      "Armin\n",
      "[0.0, 87.0, 75.0, 22.0]\n",
      "[0.0, 75.0, 78.0]\n",
      "[100.0, 100.0]\n",
      "B\n",
      "83.86666666666666\n",
      "B\n"
     ]
    }
   ],
   "source": [
    "eren = {\n",
    "    \"name\": \"Eren\",\n",
    "    \"homework\": [90.0,97.0,75.0,92.0], \n",
    "    \"quizzes\": [88.0,40.0,94.0],\n",
    "    \"tests\": [75.0,90.0]\n",
    "}\n",
    "\n",
    "mikasa = {\n",
    "    \"name\": \"Mikasa\",\n",
    "    \"homework\": [100.0, 92.0, 98.0, 100.0], \n",
    "    \"quizzes\": [82.0, 83.0, 91.0],\n",
    "    \"tests\": [89.0, 97.0]\n",
    "}\n",
    "\n",
    "armin = {\n",
    "    \"name\": \"Armin\",\n",
    "    \"homework\": [0.0, 87.0, 75.0, 22.0], \n",
    "    \"quizzes\": [0.0, 75.0, 78.0],\n",
    "    \"tests\": [100.0, 100.0]\n",
    "}\n",
    "\n",
    "students = [eren, mikasa, armin]\n",
    "\n",
    "for st in students:\n",
    "    print(st[\"name\"])\n",
    "    print(st[\"homework\"])\n",
    "    print(st[\"quizzes\"])\n",
    "    print(st[\"tests\"])\n",
    "\n",
    "def average(numbers):\n",
    "    total = float(sum(numbers))\n",
    "    Avg = total/(len(numbers))\n",
    "    return Avg\n",
    "\n",
    "def get_average(student):\n",
    "    hw = average(student[\"homework\"])\n",
    "    quiz = average(student[\"quizzes\"])\n",
    "    test = average(student[\"tests\"])\n",
    "    total = 0.1*hw +0.3*quiz + 0.6*test\n",
    "    return total\n",
    "\n",
    "def get_letter_grade(score):\n",
    "    if score >= 90:\n",
    "        return \"A\"\n",
    "    elif score >=80:\n",
    "        return \"B\"\n",
    "    elif score >=70:\n",
    "        return \"C\"\n",
    "    elif score >=60:\n",
    "        return \"D\"\n",
    "    else:\n",
    "        return \"F\"\n",
    "\n",
    "print(get_letter_grade(get_average(eren)))\n",
    "\n",
    "def get_class_average(students):\n",
    "    results = []\n",
    "    for i in students:\n",
    "        x = get_average(i)\n",
    "        results.append(x)\n",
    "    return average(results)\n",
    "\n",
    "print (get_class_average(students))\n",
    "print (get_letter_grade(get_class_average(students)))"
   ]
  }
 ],
 "metadata": {
  "kernelspec": {
   "display_name": "Python 3.10.8 64-bit (microsoft store)",
   "language": "python",
   "name": "python3"
  },
  "language_info": {
   "codemirror_mode": {
    "name": "ipython",
    "version": 3
   },
   "file_extension": ".py",
   "mimetype": "text/x-python",
   "name": "python",
   "nbconvert_exporter": "python",
   "pygments_lexer": "ipython3",
   "version": "3.10.8"
  },
  "orig_nbformat": 4,
  "vscode": {
   "interpreter": {
    "hash": "250899c1d0688a775470e8d6e63e9857e38f99ac318110e25d4c1ddc4d809af2"
   }
  }
 },
 "nbformat": 4,
 "nbformat_minor": 2
}
